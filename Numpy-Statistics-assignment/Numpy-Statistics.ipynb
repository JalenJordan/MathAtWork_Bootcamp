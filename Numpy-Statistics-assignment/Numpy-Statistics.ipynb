{
 "cells": [
  {
   "cell_type": "markdown",
   "metadata": {},
   "source": [
    "# Numpy Statistical Properties Exploration: Climate Change"
   ]
  },
  {
   "cell_type": "markdown",
   "metadata": {},
   "source": [
    "You are a data scientist interested in climate change in your area.  Every month for an entire year you obtain the average land temperature of your city measured in degrees Celsius.  You record this information in a notebook. \n",
    "<br><br>\n",
    "Here is your data:\n",
    "![title](img/temps.png)\n",
    "<br>\n",
    "Let's look at how you can use Numpy statistical functions to analyze your dataset."
   ]
  },
  {
   "cell_type": "markdown",
   "metadata": {},
   "source": [
    "**Question 1)** In the next cell, import the Numpy package. Then create a 1-Dimensional Numpy array of your recorded temperatures."
   ]
  },
  {
   "cell_type": "code",
   "execution_count": 4,
   "metadata": {},
   "outputs": [
    {
     "data": {
      "text/plain": [
       "array([ 5.313,  3.723,  7.496, 12.341, 13.477, 16.487, 17.697, 13.901,\n",
       "        9.895,  6.828,  4.849])"
      ]
     },
     "execution_count": 4,
     "metadata": {},
     "output_type": "execute_result"
    }
   ],
   "source": [
    "import numpy as np\n",
    "temperature = np.array([5.313, 3.723, 7.496, 12.341, 13.477,16.487,17.697,13.901,9.895,6.828,4.849])\n",
    "temperature"
   ]
  },
  {
   "cell_type": "markdown",
   "metadata": {},
   "source": [
    "**Question 2)** Find the AVERAGE temperature."
   ]
  },
  {
   "cell_type": "code",
   "execution_count": 3,
   "metadata": {},
   "outputs": [
    {
     "data": {
      "text/plain": [
       "10.182454545454545"
      ]
     },
     "execution_count": 3,
     "metadata": {},
     "output_type": "execute_result"
    }
   ],
   "source": [
    "np.mean(temperature)"
   ]
  },
  {
   "cell_type": "markdown",
   "metadata": {},
   "source": [
    "**Question 3)** SORT your data to see if there are any extreme temperatures that could throw off your analysis.  Extreme temperatures would be those data values that are much higher or much lower than all other data values."
   ]
  },
  {
   "cell_type": "code",
   "execution_count": 7,
   "metadata": {},
   "outputs": [
    {
     "data": {
      "text/plain": [
       "array([ 3.723,  4.849,  5.313,  6.828,  7.496,  9.895, 12.341, 13.477,\n",
       "       13.901, 16.487, 17.697])"
      ]
     },
     "execution_count": 7,
     "metadata": {},
     "output_type": "execute_result"
    }
   ],
   "source": [
    "np.sort(temperature)"
   ]
  },
  {
   "cell_type": "markdown",
   "metadata": {},
   "source": [
    "**Question 4)** Do you think that there were any temperatures that could have impacted your average temperature calculation above?  If so, the MEDIAN might be a better representation of your dataset.  In the next cell, calculate the MEDIAN temperature."
   ]
  },
  {
   "cell_type": "code",
   "execution_count": 8,
   "metadata": {},
   "outputs": [
    {
     "data": {
      "text/plain": [
       "9.895"
      ]
     },
     "execution_count": 8,
     "metadata": {},
     "output_type": "execute_result"
    }
   ],
   "source": [
    "np.median(temperature)"
   ]
  },
  {
   "cell_type": "markdown",
   "metadata": {},
   "source": [
    "**Question 5)** While the median tells you where 50% of your temperature data fall below.  Where does 75% of your temperature data fall below?  Calculate the 75th PERCENTILE."
   ]
  },
  {
   "cell_type": "code",
   "execution_count": 9,
   "metadata": {},
   "outputs": [
    {
     "data": {
      "text/plain": [
       "13.689"
      ]
     },
     "execution_count": 9,
     "metadata": {},
     "output_type": "execute_result"
    }
   ],
   "source": [
    "np.percentile(temperature, 75)"
   ]
  },
  {
   "cell_type": "markdown",
   "metadata": {},
   "source": [
    "**Question 6)** Now that you have a good idea about specific temperature values, let's look at the spread of your data.  Calculate the STANDARD DEVIATION to see how close or far away your data is from the mean.  Describe in the cell below your calculation what the STANDARD DEVIATION says about your temperature data."
   ]
  },
  {
   "cell_type": "code",
   "execution_count": 10,
   "metadata": {},
   "outputs": [
    {
     "data": {
      "text/plain": [
       "4.651397900604943"
      ]
     },
     "execution_count": 10,
     "metadata": {},
     "output_type": "execute_result"
    }
   ],
   "source": [
    "np.std(temperature)"
   ]
  },
  {
   "cell_type": "markdown",
   "metadata": {},
   "source": [
    "Great work!  Numpy made it super easy to calculate several important statistical properties of your dataset.  When extreme values exist in the data, they impact the MEAN calculation.  In this case, the MEDIAN temperature may be more useful than the MEAN temperature because it is not affected by these extreme values.  \n",
    "<br><br>\n",
    "The STANDARD DEVIATION is very useful for understanding the spread of your data.  A large STANDARD DEVIATION indicates that most temperature values are spread far away from the average and are therefore, a lot higher/lower than the average temperature.  While a small STANDARD DEVIATION indicates most temperature values are close to (or not that different from) the average temperature.  "
   ]
  }
 ],
 "metadata": {
  "kernelspec": {
   "display_name": "Python 3",
   "language": "python",
   "name": "python3"
  },
  "language_info": {
   "codemirror_mode": {
    "name": "ipython",
    "version": 3
   },
   "file_extension": ".py",
   "mimetype": "text/x-python",
   "name": "python",
   "nbconvert_exporter": "python",
   "pygments_lexer": "ipython3",
   "version": "3.7.3"
  }
 },
 "nbformat": 4,
 "nbformat_minor": 2
}
